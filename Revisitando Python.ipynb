{
 "cells": [
  {
   "cell_type": "markdown",
   "metadata": {},
   "source": [
    "# Revisitando Python\n",
    "<img src=\"https://files.realpython.com/media/Introduction-to-Python_Watermarked.48eeee4e1109.jpg\" alt=\"Hello Python!\" style=\"width:600px;height:300px;\">\n",
    "\n",
    "Fuente: [RealPython](https://realpython.com/python-first-steps/)\n",
    "\n",
    "Antes de iniciar en los temas propios del curso, es necesario que volvamos a revisar algunos detalles que quiza se quedaron en el tintero (o con mayor rigor, en el teclado) o que no se tomaron en cuenta o que sencillamente han sido olvidados. Así que vamos a repasar las cosas que debieron haber aprendido y quiza alguno olvido en el camino.\n",
    "\n",
    "\n",
    "<div style=\"text-align: right\"> Luis A. Muñoz </div>\n",
    "\n",
    "---"
   ]
  },
  {
   "cell_type": "markdown",
   "metadata": {},
   "source": [
    "## Funciones definidas por el usuario\n",
    "Las funciones son codigos autónomos que implementan soluciones puntuales. Son parte del rompecabezas que puede ser un proyecto de programación final. Consisten en un bloque de codigo que toma valores de entrada (parametros) para ser parte del proceso y retornar un valor o varios como resultado."
   ]
  },
  {
   "cell_type": "code",
   "execution_count": 7,
   "metadata": {},
   "outputs": [],
   "source": [
    "def factores_primos(n):\n",
    "    '''factores primos(n)   Funcion que retorna los factores primos de un numero\n",
    "    \n",
    "    Parametros:\n",
    "        - n: int\n",
    "        \n",
    "    Uso:\n",
    "        factores_primos(12)  -> [2, 2, 3]'''\n",
    "    if n < 1 or not isinstance(n, int):\n",
    "        return []\n",
    "    \n",
    "    div = 2\n",
    "    factores = []\n",
    "    # Lazo que encuentra los divisores del numero (factores)\n",
    "    while n is not 1:\n",
    "        # Si se tiene un factor, se guarda en la lista de salida\n",
    "        if n % div == 0:\n",
    "            factores.append(div)\n",
    "            n //=  div\n",
    "        else:\n",
    "            # ...de lo contrario se pasa a considerar el siguiente posible divisor\n",
    "            div += 1\n",
    "            \n",
    "    return factores"
   ]
  },
  {
   "cell_type": "code",
   "execution_count": 8,
   "metadata": {},
   "outputs": [
    {
     "name": "stdout",
     "output_type": "stream",
     "text": [
      "[]\n"
     ]
    }
   ],
   "source": [
    "print(factores_primos(1.5))"
   ]
  },
  {
   "cell_type": "code",
   "execution_count": 4,
   "metadata": {},
   "outputs": [
    {
     "name": "stdout",
     "output_type": "stream",
     "text": [
      "Help on function factores_primos in module __main__:\n",
      "\n",
      "factores_primos(n)\n",
      "    factores primos(n)   Funcion que retiorna los factores primos de un numero\n",
      "    \n",
      "    Parametros:\n",
      "        - n: int\n",
      "        \n",
      "    Uso:\n",
      "        factores_primos(12)  -> [2, 2, 3]\n",
      "\n"
     ]
    }
   ],
   "source": [
    "help(factores_primos)"
   ]
  },
  {
   "cell_type": "markdown",
   "metadata": {},
   "source": [
    "### Excepciones\n",
    "Las funciones pueden imprimir información pero no suelen imprimir resultados, ya que estos serán interpretados por otros programas como parte de un proyecto de programación. La impresión de un error puede ser util para el programador, pero si un código llama a una función debe de saber si ha ocurrido un error al momento de llamar a la función y para esto debe de recibír un mensaje de error que el proceso pueda interpretar como tal. Por eso es preferible generar Excepciones a imprimir mensajes de error. "
   ]
  },
  {
   "cell_type": "code",
   "execution_count": 52,
   "metadata": {},
   "outputs": [],
   "source": [
    "def factorial(n):\n",
    "    '''factorial(n)     Retorna el factorial de n (forma recursiva)\n",
    "    \n",
    "    Parametros:\n",
    "        - n: int\n",
    "        \n",
    "    Uso:\n",
    "        factorial(5) -> 120'''\n",
    "    if not isinstance(n, int):\n",
    "        raise TypeError(\"El valor 'n' debe ser un 'int'\")\n",
    "    \n",
    "    if n < 0:\n",
    "        raise ValueError(\"El valor 'n' debe ser un 'int' >= 0\")\n",
    "        \n",
    "    if n == 0:\n",
    "        return 1\n",
    "    else:\n",
    "        return n * factorial(n-1)"
   ]
  },
  {
   "cell_type": "code",
   "execution_count": 53,
   "metadata": {},
   "outputs": [
    {
     "name": "stdout",
     "output_type": "stream",
     "text": [
      "120\n"
     ]
    }
   ],
   "source": [
    "print(factorial(5))"
   ]
  },
  {
   "cell_type": "code",
   "execution_count": 54,
   "metadata": {},
   "outputs": [
    {
     "ename": "TypeError",
     "evalue": "El valor 'n' debe ser un 'int'",
     "output_type": "error",
     "traceback": [
      "\u001b[1;31m---------------------------------------------------------------------------\u001b[0m",
      "\u001b[1;31mTypeError\u001b[0m                                 Traceback (most recent call last)",
      "\u001b[1;32m<ipython-input-54-3520c8deda00>\u001b[0m in \u001b[0;36m<module>\u001b[1;34m\u001b[0m\n\u001b[1;32m----> 1\u001b[1;33m \u001b[0mprint\u001b[0m\u001b[1;33m(\u001b[0m\u001b[0mfactorial\u001b[0m\u001b[1;33m(\u001b[0m\u001b[1;36m1.5\u001b[0m\u001b[1;33m)\u001b[0m\u001b[1;33m)\u001b[0m\u001b[1;33m\u001b[0m\u001b[1;33m\u001b[0m\u001b[0m\n\u001b[0m",
      "\u001b[1;32m<ipython-input-52-0727e516acbe>\u001b[0m in \u001b[0;36mfactorial\u001b[1;34m(n)\u001b[0m\n\u001b[0;32m      8\u001b[0m         factorial(5) -> 120'''\n\u001b[0;32m      9\u001b[0m     \u001b[1;32mif\u001b[0m \u001b[1;32mnot\u001b[0m \u001b[0misinstance\u001b[0m\u001b[1;33m(\u001b[0m\u001b[0mn\u001b[0m\u001b[1;33m,\u001b[0m \u001b[0mint\u001b[0m\u001b[1;33m)\u001b[0m\u001b[1;33m:\u001b[0m\u001b[1;33m\u001b[0m\u001b[1;33m\u001b[0m\u001b[0m\n\u001b[1;32m---> 10\u001b[1;33m         \u001b[1;32mraise\u001b[0m \u001b[0mTypeError\u001b[0m\u001b[1;33m(\u001b[0m\u001b[1;34m\"El valor 'n' debe ser un 'int'\"\u001b[0m\u001b[1;33m)\u001b[0m\u001b[1;33m\u001b[0m\u001b[1;33m\u001b[0m\u001b[0m\n\u001b[0m\u001b[0;32m     11\u001b[0m \u001b[1;33m\u001b[0m\u001b[0m\n\u001b[0;32m     12\u001b[0m     \u001b[1;32mif\u001b[0m \u001b[0mn\u001b[0m \u001b[1;33m<\u001b[0m \u001b[1;36m0\u001b[0m\u001b[1;33m:\u001b[0m\u001b[1;33m\u001b[0m\u001b[1;33m\u001b[0m\u001b[0m\n",
      "\u001b[1;31mTypeError\u001b[0m: El valor 'n' debe ser un 'int'"
     ]
    }
   ],
   "source": [
    "print(factorial(1.5))"
   ]
  },
  {
   "cell_type": "code",
   "execution_count": 55,
   "metadata": {},
   "outputs": [
    {
     "ename": "ValueError",
     "evalue": "El valor 'n' debe ser un 'int' >= 0",
     "output_type": "error",
     "traceback": [
      "\u001b[1;31m---------------------------------------------------------------------------\u001b[0m",
      "\u001b[1;31mValueError\u001b[0m                                Traceback (most recent call last)",
      "\u001b[1;32m<ipython-input-55-8f4cb14927b2>\u001b[0m in \u001b[0;36m<module>\u001b[1;34m\u001b[0m\n\u001b[1;32m----> 1\u001b[1;33m \u001b[0mprint\u001b[0m\u001b[1;33m(\u001b[0m\u001b[0mfactorial\u001b[0m\u001b[1;33m(\u001b[0m\u001b[1;33m-\u001b[0m\u001b[1;36m1\u001b[0m\u001b[1;33m)\u001b[0m\u001b[1;33m)\u001b[0m\u001b[1;33m\u001b[0m\u001b[1;33m\u001b[0m\u001b[0m\n\u001b[0m",
      "\u001b[1;32m<ipython-input-52-0727e516acbe>\u001b[0m in \u001b[0;36mfactorial\u001b[1;34m(n)\u001b[0m\n\u001b[0;32m     11\u001b[0m \u001b[1;33m\u001b[0m\u001b[0m\n\u001b[0;32m     12\u001b[0m     \u001b[1;32mif\u001b[0m \u001b[0mn\u001b[0m \u001b[1;33m<\u001b[0m \u001b[1;36m0\u001b[0m\u001b[1;33m:\u001b[0m\u001b[1;33m\u001b[0m\u001b[1;33m\u001b[0m\u001b[0m\n\u001b[1;32m---> 13\u001b[1;33m         \u001b[1;32mraise\u001b[0m \u001b[0mValueError\u001b[0m\u001b[1;33m(\u001b[0m\u001b[1;34m\"El valor 'n' debe ser un 'int' >= 0\"\u001b[0m\u001b[1;33m)\u001b[0m\u001b[1;33m\u001b[0m\u001b[1;33m\u001b[0m\u001b[0m\n\u001b[0m\u001b[0;32m     14\u001b[0m \u001b[1;33m\u001b[0m\u001b[0m\n\u001b[0;32m     15\u001b[0m     \u001b[1;32mif\u001b[0m \u001b[0mn\u001b[0m \u001b[1;33m==\u001b[0m \u001b[1;36m0\u001b[0m\u001b[1;33m:\u001b[0m\u001b[1;33m\u001b[0m\u001b[1;33m\u001b[0m\u001b[0m\n",
      "\u001b[1;31mValueError\u001b[0m: El valor 'n' debe ser un 'int' >= 0"
     ]
    }
   ],
   "source": [
    "print(factorial(-1))"
   ]
  },
  {
   "cell_type": "markdown",
   "metadata": {},
   "source": [
    "### Bloque try... except\n",
    "Cuando un script llame a la función `factorial` puede hacer un \"intento\" con la instrucción `try` y si es que esta función genera una Excepción esta es capturada con la instrucción `except` y se puede mostrar un error propio del script."
   ]
  },
  {
   "cell_type": "code",
   "execution_count": 19,
   "metadata": {},
   "outputs": [
    {
     "name": "stdout",
     "output_type": "stream",
     "text": [
      "'num' debe ser entero\n"
     ]
    }
   ],
   "source": [
    "num = 1.5        # Prueba float\n",
    "# num = -5       # Prueba negativo\n",
    "\n",
    "try:\n",
    "    factorial(num)\n",
    "except TypeError:\n",
    "    print(\"Error: 'num' debe ser entero\")\n",
    "except ValueError:\n",
    "    print(\"Error: 'num' debe ser mayor o igual a 0\")\n",
    "except:\n",
    "    print(\"Error: Error general\")"
   ]
  },
  {
   "cell_type": "markdown",
   "metadata": {},
   "source": [
    "### \\*args y \\*\\*kwargs\n",
    "En algunas ocasiones se requiere que una función tenga un número de parametros aleatorios, ya sea en forma de argumentos posicionales o por `keywords`. Esto se logra con los symbolos especiales `*` (desempaquetado en tuplas) y `**` (desempaquetado en diccionarios) y normalmente se especifican de la forma `*args` y `**kwargs`."
   ]
  },
  {
   "cell_type": "code",
   "execution_count": 31,
   "metadata": {},
   "outputs": [],
   "source": [
    "def foo(*args, **kwargs):\n",
    "    for arg in args:\n",
    "        print(arg)\n",
    "        \n",
    "    for k, v in kwargs.items():\n",
    "        print(k, '->', v)"
   ]
  },
  {
   "cell_type": "code",
   "execution_count": 38,
   "metadata": {},
   "outputs": [
    {
     "name": "stdout",
     "output_type": "stream",
     "text": [
      "A\n"
     ]
    }
   ],
   "source": [
    "foo('A')"
   ]
  },
  {
   "cell_type": "code",
   "execution_count": 39,
   "metadata": {},
   "outputs": [
    {
     "name": "stdout",
     "output_type": "stream",
     "text": [
      "A\n",
      "B\n",
      "C\n"
     ]
    }
   ],
   "source": [
    "foo('A', 'B', 'C')"
   ]
  },
  {
   "cell_type": "code",
   "execution_count": 40,
   "metadata": {},
   "outputs": [
    {
     "name": "stdout",
     "output_type": "stream",
     "text": [
      "num1 -> 1\n"
     ]
    }
   ],
   "source": [
    "foo(num1=1)"
   ]
  },
  {
   "cell_type": "code",
   "execution_count": 41,
   "metadata": {},
   "outputs": [
    {
     "name": "stdout",
     "output_type": "stream",
     "text": [
      "num1 -> 1\n",
      "num2 -> 2\n",
      "num3 -> 3\n"
     ]
    }
   ],
   "source": [
    "foo(num1=1, num2=2, num3=3)"
   ]
  },
  {
   "cell_type": "code",
   "execution_count": 42,
   "metadata": {},
   "outputs": [
    {
     "name": "stdout",
     "output_type": "stream",
     "text": [
      "A\n",
      "B\n",
      "C\n",
      "num1 -> 1\n",
      "num2 -> 2\n",
      "num3 -> 3\n"
     ]
    }
   ],
   "source": [
    "foo('A', 'B', 'C', num1=1, num2=2, num3=3)"
   ]
  },
  {
   "cell_type": "markdown",
   "metadata": {},
   "source": [
    "Esta especificación permite reducir la definición de los argumentos de una función y se utiliza mucha en la documentación de Python. Un buen ejemplo es el método `format` de la clase `str` que soporta diferentes argumentos y keywords: "
   ]
  },
  {
   "cell_type": "code",
   "execution_count": 47,
   "metadata": {},
   "outputs": [
    {
     "name": "stdout",
     "output_type": "stream",
     "text": [
      "Help on method_descriptor:\n",
      "\n",
      "format(...)\n",
      "    S.format(*args, **kwargs) -> str\n",
      "    \n",
      "    Return a formatted version of S, using substitutions from args and kwargs.\n",
      "    The substitutions are identified by braces ('{' and '}').\n",
      "\n"
     ]
    }
   ],
   "source": [
    "help(str.format)"
   ]
  },
  {
   "cell_type": "markdown",
   "metadata": {},
   "source": [
    "### Generadores con yield\n",
    "Una función puede ser un *generador*, esto es un objeto que no retorna una secuencia de elementos sino un *motor* que genere valores según la regla de la función y que será controlado por un iterador como un lazo `for`. Para esto, el lugar de retornar una lista o una tupla, la función retorna los valores por separado utilizando la instrucción `yield` en lugar de `return`:"
   ]
  },
  {
   "cell_type": "code",
   "execution_count": 103,
   "metadata": {},
   "outputs": [],
   "source": [
    "def range_letters(ini='A', end='Z', case='upper', reverse=False):\n",
    "    if not isinstance(ini, str) or not isinstance(end, str):\n",
    "        raise TypeError\n",
    "    \n",
    "    if all([ini.isalpha(), end.isalpha()]):     # all: True si [True, True]\n",
    "        if ini.upper() < end.upper():\n",
    "            if not reverse:\n",
    "                letter = ord(ini.upper()) - 1\n",
    "                while letter < ord(end.upper()):\n",
    "                    letter += 1\n",
    "                    if case == 'upper':\n",
    "                        yield chr(letter).upper()\n",
    "                    elif case == 'lower':\n",
    "                        yield chr(letter).lower()\n",
    "                    else:\n",
    "                        raise AttributeError\n",
    "            else:\n",
    "                letter = ord(end.upper()) + 1\n",
    "                while letter > ord(ini.upper()):\n",
    "                    letter -= 1\n",
    "                    if case == 'upper':\n",
    "                        yield chr(letter).upper()\n",
    "                    elif case == 'lower':\n",
    "                        yield chr(letter).lower()\n",
    "                    else:\n",
    "                        raise AttributeError\n",
    "        else:\n",
    "            raise ValueError\n",
    "    else:\n",
    "        raise ValueError\n",
    "        "
   ]
  },
  {
   "cell_type": "markdown",
   "metadata": {},
   "source": [
    "Si se llama a la función lo que retornará en un objeto generador:"
   ]
  },
  {
   "cell_type": "code",
   "execution_count": 110,
   "metadata": {},
   "outputs": [
    {
     "name": "stdout",
     "output_type": "stream",
     "text": [
      "<generator object range_letters at 0x0000027F1A17E548>\n"
     ]
    }
   ],
   "source": [
    "print(range_letters('A', 'C'))"
   ]
  },
  {
   "cell_type": "markdown",
   "metadata": {},
   "source": [
    "Se puede utilizar la función `next` para que retorna el siguiente valor del generador. `next` ira retornando los valores del generados hasta que genere una excepción por haber agotado con los valores."
   ]
  },
  {
   "cell_type": "code",
   "execution_count": 112,
   "metadata": {},
   "outputs": [
    {
     "name": "stdout",
     "output_type": "stream",
     "text": [
      "A\n",
      "B\n",
      "C\n"
     ]
    },
    {
     "ename": "StopIteration",
     "evalue": "",
     "output_type": "error",
     "traceback": [
      "\u001b[1;31m---------------------------------------------------------------------------\u001b[0m",
      "\u001b[1;31mStopIteration\u001b[0m                             Traceback (most recent call last)",
      "\u001b[1;32m<ipython-input-112-c010a437df3e>\u001b[0m in \u001b[0;36m<module>\u001b[1;34m\u001b[0m\n\u001b[0;32m      3\u001b[0m \u001b[0mprint\u001b[0m\u001b[1;33m(\u001b[0m\u001b[0mnext\u001b[0m\u001b[1;33m(\u001b[0m\u001b[0mgen\u001b[0m\u001b[1;33m)\u001b[0m\u001b[1;33m)\u001b[0m\u001b[1;33m\u001b[0m\u001b[1;33m\u001b[0m\u001b[0m\n\u001b[0;32m      4\u001b[0m \u001b[0mprint\u001b[0m\u001b[1;33m(\u001b[0m\u001b[0mnext\u001b[0m\u001b[1;33m(\u001b[0m\u001b[0mgen\u001b[0m\u001b[1;33m)\u001b[0m\u001b[1;33m)\u001b[0m\u001b[1;33m\u001b[0m\u001b[1;33m\u001b[0m\u001b[0m\n\u001b[1;32m----> 5\u001b[1;33m \u001b[0mprint\u001b[0m\u001b[1;33m(\u001b[0m\u001b[0mnext\u001b[0m\u001b[1;33m(\u001b[0m\u001b[0mgen\u001b[0m\u001b[1;33m)\u001b[0m\u001b[1;33m)\u001b[0m   \u001b[1;31m# Esta linea genera un Excepcion StopIteration\u001b[0m\u001b[1;33m\u001b[0m\u001b[1;33m\u001b[0m\u001b[0m\n\u001b[0m",
      "\u001b[1;31mStopIteration\u001b[0m: "
     ]
    }
   ],
   "source": [
    "gen = range_letters('A', 'C')\n",
    "print(next(gen))\n",
    "print(next(gen))\n",
    "print(next(gen))\n",
    "print(next(gen))   # Esta linea genera un Excepcion StopIteration"
   ]
  },
  {
   "cell_type": "markdown",
   "metadata": {},
   "source": [
    "¿Ahora entiende porque la función `range` al ser impresa no retorna el rango de números sino la especificación del rango a generar? Esto es porque `range` es un generador y si se especifica que se quieren generar 10, 100 o 1000 números, el uso de los recursos es el mismo pues la función solo retorna un número por vez y no una lista de números."
   ]
  },
  {
   "cell_type": "code",
   "execution_count": 115,
   "metadata": {},
   "outputs": [
    {
     "name": "stdout",
     "output_type": "stream",
     "text": [
      "range(1, 11)\n"
     ]
    }
   ],
   "source": [
    "print(range(1, 11))"
   ]
  },
  {
   "cell_type": "markdown",
   "metadata": {},
   "source": [
    "¿Ahora también entiende por que el lazo `for` en Python es tan extraño por no utilizar indices o controles de fin de iteración? Porque es un lazo `while` con la instrucción `next` en el interior y se mantiene hasta que se genera la exception `StopIteration` (siempre y cuando el elemento a iterar sea un generador)."
   ]
  },
  {
   "cell_type": "code",
   "execution_count": 118,
   "metadata": {},
   "outputs": [
    {
     "name": "stdout",
     "output_type": "stream",
     "text": [
      "H\n",
      "G\n",
      "F\n",
      "E\n",
      "D\n",
      "C\n"
     ]
    }
   ],
   "source": [
    "for letter in range_letters('C', 'H', reverse=True):\n",
    "    print(letter)"
   ]
  },
  {
   "cell_type": "markdown",
   "metadata": {},
   "source": [
    "## enumerate y zip\n",
    "Las funciones `enumerate` y `zip` agregan funcionalidades a un iterador, es decir, a un lazo `for`. Por ejemplo, `enumerate` retorna una lista enumerada que es desempaquetada por el lazo:"
   ]
  },
  {
   "cell_type": "code",
   "execution_count": 120,
   "metadata": {},
   "outputs": [
    {
     "name": "stdout",
     "output_type": "stream",
     "text": [
      "1 : A\n",
      "2 : B\n",
      "3 : C\n"
     ]
    }
   ],
   "source": [
    "# Por cada elemento iterado se le agrega una etiqueta numerica (por defecto, start=0)\n",
    "for idx, letter in enumerate(range_letters('A', 'C'), start=1):\n",
    "    print(idx, ':', letter)"
   ]
  },
  {
   "cell_type": "markdown",
   "metadata": {},
   "source": [
    "Por otro lado, `zip` es una *cremallera* que permite extraer los datos de dos o mas iterables que puude ser desempaquetada por el lazo"
   ]
  },
  {
   "cell_type": "code",
   "execution_count": 121,
   "metadata": {},
   "outputs": [
    {
     "name": "stdout",
     "output_type": "stream",
     "text": [
      "a - A\n",
      "b - B\n",
      "c - C\n"
     ]
    }
   ],
   "source": [
    "minusculas = range_letters('A', 'C', case='lower')\n",
    "mayusculas = range_letters('A', 'C', case='upper')\n",
    "\n",
    "for min_, may in zip(minusculas, mayusculas):    # \"min_\" ya que \"min\" es una funcion de Python (BIF)\n",
    "    print(min_, '-', may)"
   ]
  },
  {
   "cell_type": "markdown",
   "metadata": {},
   "source": [
    "## map y filter\n",
    "Otra operación útil en las colecciones de elementos es la capacidad de modificar los valores o filtrarlos bajo un criterio. Esto se lográ con las instrucciones `map` y `filter`, combinadas con las funciones anónimas `lambda`:"
   ]
  },
  {
   "cell_type": "code",
   "execution_count": 124,
   "metadata": {},
   "outputs": [
    {
     "name": "stdout",
     "output_type": "stream",
     "text": [
      "numeros = [1, 2, 3, 4, 5]\n",
      "numeros_cuad =  [1, 4, 9, 16, 25]\n",
      "numeros_pares = [2, 4]\n"
     ]
    }
   ],
   "source": [
    "numeros = [1, 2, 3, 4, 5]\n",
    "\n",
    "numeros_cuad = list(map(lambda x: x**2, numeros))\n",
    "numeros_pares = list(filter(lambda x: x%2 == 0, numeros))\n",
    "\n",
    "print(\"numeros =\", numeros)\n",
    "print(\"numeros_cuad = \", numeros_cuad)\n",
    "print(\"numeros_pares =\", numeros_pares)"
   ]
  },
  {
   "cell_type": "markdown",
   "metadata": {},
   "source": [
    "## Listas por comprehension\n",
    "Las listas por comprehensión es de esas cosas que una vez que se pruebas y se entienden ya no se pueden dejar de utilizar. Es una forma de lograr operaciones de lazo para generar una lista utilizando una construcción diferente pero más legible.\n",
    "\n",
    "Así, en lugar de escribir:"
   ]
  },
  {
   "cell_type": "code",
   "execution_count": 125,
   "metadata": {},
   "outputs": [
    {
     "name": "stdout",
     "output_type": "stream",
     "text": [
      "[1, 2, 3, 4, 5, 6, 7, 8, 9]\n"
     ]
    }
   ],
   "source": [
    "lista = []\n",
    "\n",
    "for i in range(1, 10):\n",
    "    lista.append(i)\n",
    "    \n",
    "print(lista)"
   ]
  },
  {
   "cell_type": "markdown",
   "metadata": {},
   "source": [
    "Escibimos:"
   ]
  },
  {
   "cell_type": "code",
   "execution_count": 126,
   "metadata": {},
   "outputs": [
    {
     "name": "stdout",
     "output_type": "stream",
     "text": [
      "[1, 2, 3, 4, 5, 6, 7, 8, 9]\n"
     ]
    }
   ],
   "source": [
    "lista = [i for i in range(1, 10)]\n",
    "print(lista)"
   ]
  },
  {
   "cell_type": "markdown",
   "metadata": {},
   "source": [
    "La generación por medio de listas por comprehensión no solo es más legible sino que mucho más rápida. Se puede combinar con `if` e inclusive con `for` anidados en una sola instrucción. Utilizando esto se puede realizar lo mismo que con `map` y `filter` sin tener que recurrir a funciones `lambda` y se consigue un código más légible:"
   ]
  },
  {
   "cell_type": "code",
   "execution_count": 128,
   "metadata": {},
   "outputs": [
    {
     "name": "stdout",
     "output_type": "stream",
     "text": [
      "numeros = [1, 2, 3, 4, 5]\n",
      "numeros_cuad =  [1, 4, 9, 16, 25]\n",
      "numeros_pares = [2, 4]\n"
     ]
    }
   ],
   "source": [
    "numeros = [1, 2, 3, 4, 5]\n",
    "\n",
    "numeros_cuad = [n**2 for n in numeros]\n",
    "numeros_pares = [n for n in numeros if n%2 == 0]\n",
    "\n",
    "print(\"numeros =\", numeros)\n",
    "print(\"numeros_cuad = \", numeros_cuad)\n",
    "print(\"numeros_pares =\", numeros_pares)"
   ]
  },
  {
   "cell_type": "markdown",
   "metadata": {},
   "source": [
    "Una lista por comprehensión puede tener lazos anidados:"
   ]
  },
  {
   "cell_type": "code",
   "execution_count": 145,
   "metadata": {},
   "outputs": [
    {
     "name": "stdout",
     "output_type": "stream",
     "text": [
      "[(1, 'A'), (1, 'B'), (1, 'C'), (1, 'D'), (2, 'A'), (2, 'B'), (2, 'C'), (2, 'D'), (3, 'A'), (3, 'B'), (3, 'C'), (3, 'D'), (4, 'A'), (4, 'B'), (4, 'C'), (4, 'D')]\n"
     ]
    }
   ],
   "source": [
    "lista2D = [(a, chr(b)) for a in range(1, 5)\n",
    "                  for b in range(ord('A'), ord('E'))]\n",
    "print(lista2D)"
   ]
  },
  {
   "cell_type": "markdown",
   "metadata": {},
   "source": [
    "## Conjuntos y Diccionarios por comprehension\n",
    "Tambien se pueden generar `set` y `dict` por comprehension."
   ]
  },
  {
   "cell_type": "code",
   "execution_count": 147,
   "metadata": {},
   "outputs": [
    {
     "name": "stdout",
     "output_type": "stream",
     "text": [
      "Conjunto = {1, 2, 3, 4, 5}\n",
      "Diccionario = {'A': 'a', 'B': 'b', 'C': 'c'}\n"
     ]
    }
   ],
   "source": [
    "print(\"Conjunto =\", {n for n in range(1, 6)})\n",
    "print(\"Diccionario =\", {k: v for k, v in zip(['A', 'B', 'C'], ['a', 'b', 'c'])})"
   ]
  },
  {
   "cell_type": "markdown",
   "metadata": {},
   "source": [
    "Sin embargo, un diccionario se puede generar de forma más sencilla directamente con la instrucción `zip` y `dict`:"
   ]
  },
  {
   "cell_type": "code",
   "execution_count": 150,
   "metadata": {},
   "outputs": [
    {
     "name": "stdout",
     "output_type": "stream",
     "text": [
      "Diccionario = {'A': 'a', 'B': 'b', 'C': 'c'}\n"
     ]
    }
   ],
   "source": [
    "print(\"Diccionario =\", dict(zip(['A', 'B', 'C'], ['a', 'b', 'c'])))"
   ]
  },
  {
   "cell_type": "markdown",
   "metadata": {},
   "source": [
    "## Valores de un diccionario con `get`\n",
    "Para obtener el valor correspondiente a la llave de un diccionario se puede especificando la llave entre `[]`:"
   ]
  },
  {
   "cell_type": "code",
   "execution_count": 151,
   "metadata": {},
   "outputs": [
    {
     "name": "stdout",
     "output_type": "stream",
     "text": [
      "a\n"
     ]
    }
   ],
   "source": [
    "may2min = dict(zip(['A', 'B', 'C'], ['a', 'b', 'c']))\n",
    "print(may2min['A'])"
   ]
  },
  {
   "cell_type": "markdown",
   "metadata": {},
   "source": [
    "Sin embargo, cuando se busca el valor asociado a una llave que no exista se generará una excepción:"
   ]
  },
  {
   "cell_type": "code",
   "execution_count": 152,
   "metadata": {},
   "outputs": [
    {
     "ename": "KeyError",
     "evalue": "'M'",
     "output_type": "error",
     "traceback": [
      "\u001b[1;31m---------------------------------------------------------------------------\u001b[0m",
      "\u001b[1;31mKeyError\u001b[0m                                  Traceback (most recent call last)",
      "\u001b[1;32m<ipython-input-152-9b2c01cb249e>\u001b[0m in \u001b[0;36m<module>\u001b[1;34m\u001b[0m\n\u001b[1;32m----> 1\u001b[1;33m \u001b[0mprint\u001b[0m\u001b[1;33m(\u001b[0m\u001b[0mmay2min\u001b[0m\u001b[1;33m[\u001b[0m\u001b[1;34m'M'\u001b[0m\u001b[1;33m]\u001b[0m\u001b[1;33m)\u001b[0m\u001b[1;33m\u001b[0m\u001b[1;33m\u001b[0m\u001b[0m\n\u001b[0m",
      "\u001b[1;31mKeyError\u001b[0m: 'M'"
     ]
    }
   ],
   "source": [
    "print(may2min['M'])"
   ]
  },
  {
   "cell_type": "markdown",
   "metadata": {},
   "source": [
    "Esto require que en el script se tenga que asegurar este procedimiento colocando las consultas a un diccionario en un bloque `try...except`. Sin embargo, hay una mejor forma y es utilizando el método `dict.get()` ya que este retorna un objeto especificado como segundo parametro:"
   ]
  },
  {
   "cell_type": "code",
   "execution_count": 154,
   "metadata": {},
   "outputs": [
    {
     "name": "stdout",
     "output_type": "stream",
     "text": [
      "Esta llave no existe\n"
     ]
    }
   ],
   "source": [
    "print(may2min.get('M', 'Esta llave no existe'))"
   ]
  },
  {
   "cell_type": "markdown",
   "metadata": {},
   "source": [
    "Esto se puede combinar con un `if` y asi tener una consulta legible y más sencilla:"
   ]
  },
  {
   "cell_type": "code",
   "execution_count": 156,
   "metadata": {},
   "outputs": [
    {
     "name": "stdin",
     "output_type": "stream",
     "text": [
      "Llave:  G\n"
     ]
    },
    {
     "name": "stdout",
     "output_type": "stream",
     "text": [
      "Llave no existe\n"
     ]
    }
   ],
   "source": [
    "letra = input(\"Llave: \")\n",
    "\n",
    "if may2min.get(letra, False):\n",
    "    print(may2min[letra])\n",
    "else:\n",
    "    print(\"Llave no existe\")"
   ]
  },
  {
   "cell_type": "markdown",
   "metadata": {},
   "source": [
    "## f-strings\n",
    "Un f-string es una cadena de texto con formato incluido y es la forma preferida de generar cadenas de texto desde la version 3.6 de Python. Se utiliza el caracter `f` antes de definir una cadena con comodines de formato `{}` y en el interior se colocan los valores a ser asignados."
   ]
  },
  {
   "cell_type": "code",
   "execution_count": 368,
   "metadata": {},
   "outputs": [
    {
     "name": "stdout",
     "output_type": "stream",
     "text": [
      "Para una persona de 1.60 m y 80 kg, el IMC es de 31.2\n"
     ]
    }
   ],
   "source": [
    "peso = 80\n",
    "altura  = 1.60\n",
    "imc = peso / altura**2\n",
    "\n",
    "# Uso del método format de los strings\n",
    "print(\"Para una persona de {:.2f} m y {} kg, el IMC es de {:.1f}\".format(altura, peso, imc))"
   ]
  },
  {
   "cell_type": "code",
   "execution_count": 369,
   "metadata": {},
   "outputs": [
    {
     "name": "stdout",
     "output_type": "stream",
     "text": [
      "Para una persona de 1.60 m y 80 kg, el IMC es de 31.2\n"
     ]
    }
   ],
   "source": [
    "# Uso de un f-string\n",
    "print(f\"Para una persona de {altura:.2f} m y {peso} kg, el IMC es de {imc:.1f}\")"
   ]
  },
  {
   "cell_type": "markdown",
   "metadata": {},
   "source": [
    "## Programación Orientada a Objetos (OOP)\n",
    "Es un paradigma de programacion en el que se crea una entidad llamada \"clase\"  que encapsula en una sola estructura propiedades (variables) y funciones (métodos)  asociados a un \"objeto\". Luego, estos objetos pueden ser \"instanciados\" a partir de una clase que sirve como plantilla.\n",
    "\n",
    "En el siguiente código se crear una clase Alumno en terminos de nombre, apellido, codigo y estado de matricula. Se definen los *setters* y *getters* para el control de atributos (a excepción de *presente* ya que es un atributo que se define internamente). Tambien se define el método *esta_matriculado* para conocer el estado de la matricula (el *getter* de self.maricula) asi como el método *mágico* `__repr__` que retiorna una cadena que describe el objeto.\n",
    "\n",
    "`__repr__` y `__str__` son ligeramente diferentes: el primero es invocado cuando se consulta por un objeto y el segundo cuando se imprime un objeto. Sin embargo, si `__str__` no está definido, se utiliza de forma automática `__repr__` por lo que es preferible definir este que `__str__`."
   ]
  },
  {
   "cell_type": "code",
   "execution_count": 192,
   "metadata": {},
   "outputs": [],
   "source": [
    "class Alumno:\n",
    "    def __init__(self, nombre='', apellido='', codigo=''):\n",
    "        self.nombre = nombre\n",
    "        self.apellido = apellido\n",
    "        self.codigo = codigo\n",
    "        self.matricula = False\n",
    "        \n",
    "    @property\n",
    "    def nombre(self):\n",
    "        return self.__nombre\n",
    "    \n",
    "    @property\n",
    "    def apellido(self):\n",
    "        return self.__apellido\n",
    "    \n",
    "    @property\n",
    "    def codigo(self):\n",
    "        return self.__codigo\n",
    "    \n",
    "    @nombre.setter\n",
    "    def nombre(self, val):\n",
    "        if isinstance(val, str):\n",
    "            self.__nombre = val\n",
    "        else:\n",
    "            raise TypeError(\"El campo 'nombre' debe ser tipo 'str'\")\n",
    "   \n",
    "    @apellido.setter\n",
    "    def apellido(self, val):\n",
    "        if isinstance(val, str):\n",
    "            self.__apellido = val\n",
    "        else:\n",
    "            raise TypeError(\"El campo 'apellido' debe ser tipo 'str'\")\n",
    "    \n",
    "    @codigo.setter\n",
    "    def codigo(self, val):\n",
    "        if isinstance(val, str):\n",
    "            self.__codigo = val\n",
    "        else:\n",
    "            raise TypeError(\"El campo 'codigo' debe ser tipo 'str'\")\n",
    "            \n",
    "    def esta_matriculado(self):\n",
    "        return self.matricula\n",
    "            \n",
    "    def __repr__(self):\n",
    "        return f\"Alumno(nombre={self.nombre}, apellido={self.apellido}, codigo={self.codigo})\"\n",
    "        "
   ]
  },
  {
   "cell_type": "code",
   "execution_count": 193,
   "metadata": {},
   "outputs": [
    {
     "name": "stdout",
     "output_type": "stream",
     "text": [
      "Alumno(nombre=Elvio, apellido=Lado, codigo=a81277222)\n",
      "False\n"
     ]
    }
   ],
   "source": [
    "alumno1 = Alumno('Elvio', 'Lado', 'a81277222')\n",
    "print(alumno1)\n",
    "print(alumno1.esta_matriculado())"
   ]
  },
  {
   "cell_type": "markdown",
   "metadata": {},
   "source": [
    "### Herencia\n",
    "Se puede crear una clase a partir de otra, colocando la clase *padre* entre () a momento de definirla. Esta clase heredara todas las propiedades y métodos de la clase padre."
   ]
  },
  {
   "cell_type": "code",
   "execution_count": 194,
   "metadata": {},
   "outputs": [],
   "source": [
    "# Clase Delegado es hija de Clase Alumno\n",
    "class Delegado(Alumno):\n",
    "    def __init__(self, nombre, apellido, codigo, curso):\n",
    "        super().__init__(nombre, apellido, codigo)\n",
    "        self.curso = curso\n",
    "        \n",
    "    def __repr__(self):\n",
    "        return f\"Alumno(nombre={self.nombre}, apellido={self.apellido}, codigo={self.codigo}, curso={self.curso})\""
   ]
  },
  {
   "cell_type": "code",
   "execution_count": 195,
   "metadata": {},
   "outputs": [
    {
     "name": "stdout",
     "output_type": "stream",
     "text": [
      "Alumno(nombre=Dina, apellido=Mita, codigo=u20181811, curso=Programacion)\n",
      "False\n",
      "True\n"
     ]
    }
   ],
   "source": [
    "delegada = Delegado('Dina', 'Mita', 'u20181811', 'Programacion')\n",
    "print(delegada)\n",
    "print(delegada.esta_matriculado())\n",
    "\n",
    "delegada.matricula = True\n",
    "print(delegada.esta_matriculado())"
   ]
  },
  {
   "cell_type": "markdown",
   "metadata": {},
   "source": [
    "Observe que la clase `Delegado` no define la propiedad `self.matricula` ni el método `self.esta_matriculado`; sin embargo estan disponiibles para ser utilizado por el objeto `Delegado` instanciado."
   ]
  },
  {
   "cell_type": "markdown",
   "metadata": {},
   "source": [
    "## staticmethod y classmethod\n",
    "Una características de la definición de una clase es que la palabra reservada `self` es reemplazada por la instancia del objeto. Esto significa que todos los métodos definidos en una clase están asociados al objeto. A esto se le llama métodos estáticos:\n",
    "\n",
    "Por ejemplo:\n",
    "\n",
    "    alumno = Alumno('ELvio', 'Lado', 'a81277222')\n",
    "    alumno.esta_presente()\n",
    "    \n",
    "El método `self.esta_presente` de la clase `Alumno` se ejecuta sobre el objeto instanciado `alumno`.\n",
    "\n",
    "Hay casos en los que se quiere que un método se ejecute sobre la clase. Esto sucede, por ejemplo, en `numpy`:\n",
    "\n",
    "    array = np.array([1, 2, 3, 4, 5])\n",
    "    array = np.append(array, 6)\n",
    "    print(array\n",
    "    \n",
    "    [1, 2, 3, 4, 5, 6]\n",
    "    \n",
    "Como se observa, en `numpy` es la clase `np` la que llama al método y no el objeto instanciado `array`.\n",
    "\n",
    "En el primer caso estamos ante lo que so conoce como `staticmethod` y en el segundo caso tenemos un `classmethod`. Por defecto los métodos que se definen en una clase son del tipo `staticmethod`. Probemos crear un `classmethod` en la clase Alumnos (y vamos a olvidar los *setters* y *getters* para no complicar el código):"
   ]
  },
  {
   "cell_type": "code",
   "execution_count": 213,
   "metadata": {},
   "outputs": [],
   "source": [
    "class Alumno:\n",
    "    matriculado = False\n",
    "    \n",
    "    def __init__(self, nombre='', apellido='', codigo=''):\n",
    "        self.nombre = nombre\n",
    "        self.apellido = apellido\n",
    "        self.codigo = codigo      \n",
    "            \n",
    "    def esta_matriculado(self):\n",
    "        return matriculado\n",
    "            \n",
    "    def __repr__(self):\n",
    "        return f\"Alumno(nombre={self.nombre}, apellido={self.apellido}, codigo={self.codigo})\"\n",
    "        "
   ]
  },
  {
   "cell_type": "code",
   "execution_count": 214,
   "metadata": {},
   "outputs": [
    {
     "name": "stdout",
     "output_type": "stream",
     "text": [
      "Alumno(nombre=Elvio, apellido=Lado, codigo=a81277222)\n",
      "False\n"
     ]
    }
   ],
   "source": [
    "alumno1 = Alumno('Elvio', 'Lado', 'a81277222')\n",
    "print(alumno1)\n",
    "print(alumno1.matriculado)"
   ]
  },
  {
   "cell_type": "markdown",
   "metadata": {},
   "source": [
    "Observe que la propiedad `matriculado` es una propiedad de la clase y por eso se puede llamar directamente. De hecho, se puede llamar de varias formas:\n",
    "\n",
    "    return matriculado\n",
    "    return self.matriculado\n",
    "    return cls.matriculado\n",
    "    \n",
    "Esto porque una vez instanciada la clase en un objeto, el propiedad es generica, de la clase y tambien del objeto...\n",
    "\n",
    "Pero veamos el siguiente codigo para entender el alcance de esta definición:"
   ]
  },
  {
   "cell_type": "code",
   "execution_count": 217,
   "metadata": {},
   "outputs": [
    {
     "name": "stdout",
     "output_type": "stream",
     "text": [
      "False\n",
      "False\n",
      "True\n",
      "True\n"
     ]
    }
   ],
   "source": [
    "alumno1 = Alumno('Elvio', 'Lado', 'a81277222')\n",
    "alumno2 = Alumno('Dina', 'Mita', 'u20181811')\n",
    "print(alumno1.matriculado)\n",
    "print(alumno2.matriculado)\n",
    "                   \n",
    "Alumno.matriculado = True\n",
    "print(alumno1.matriculado)\n",
    "print(alumno2.matriculado)"
   ]
  },
  {
   "cell_type": "markdown",
   "metadata": {},
   "source": [
    "Como se observa, al modificar la propiedad de la clase `matriculado` se modifica el estado de todos los objetos instanciados tipo `Alumno`. Se puede crear un método que afecte esta propiedad de la clase utilizando el decorador @classmethod, pero eso no tiene mucho sentido ya que podría ser llamada por lo objetos (se decir, ¡si se matricula el `alumno1`, matricula a todos los alumnos!).\n",
    "\n",
    "Uno de sus usos más utiles es para generar nuevos contructores. Por ejemplo, digamos que se quiere generar alumnos a partir de cadenas de texto de la forma \"nombre apellido codigo\" que se extraen de una archivo. Entonces podemos definir un `classmethod` que afecte la forma como funciona el instanciamiento del objeto en la clase:"
   ]
  },
  {
   "cell_type": "code",
   "execution_count": 222,
   "metadata": {},
   "outputs": [],
   "source": [
    "class Alumno:\n",
    "    matriculado = False\n",
    "    \n",
    "    def __init__(self, nombre='', apellido='', codigo=''):\n",
    "        self.nombre = nombre\n",
    "        self.apellido = apellido\n",
    "        self.codigo = codigo\n",
    "            \n",
    "    def esta_matriculado(self):\n",
    "        return matriculado\n",
    "            \n",
    "    @classmethod\n",
    "    def from_string(cls, string):\n",
    "        nombre, apellido, codigo = string.split()\n",
    "        return cls(nombre, apellido, codigo)      # cls: Equivalente a Alumno(nombre, apellido, codigo)\n",
    "    \n",
    "    def __repr__(self):\n",
    "        return f\"Alumno(nombre={self.nombre}, apellido={self.apellido}, codigo={self.codigo})\""
   ]
  },
  {
   "cell_type": "code",
   "execution_count": 223,
   "metadata": {},
   "outputs": [
    {
     "name": "stdout",
     "output_type": "stream",
     "text": [
      "Alumno(nombre=Elvio, apellido=Lado, codigo=a81277222)\n"
     ]
    }
   ],
   "source": [
    "alumno_str = \"Elvio Lado a81277222\"\n",
    "alumno1 = Alumno.from_string(alumno_str)\n",
    "print(alumno1)"
   ]
  },
  {
   "cell_type": "markdown",
   "metadata": {},
   "source": [
    "## namedtuples\n",
    "Una de las ventajas obvias de la OOP es el encapsulamiento de las propiedades y métodos en una sola entidad. Sin embargo, a veces solo se quiere utilizar el encapsulamiento de propiedades ya que no se requieren métodos: se quiere utilizar la clase como un sistema de almacenamiento eficiente de forma tal que se puede llamar a las propiedades en lugar de tener muchas variables en el código.\n",
    "\n",
    "Por ejemplo, dejando de lado los ejemplos para demostrar algunos aspectos teoricos, la clase `Alumnos` no tiene un método útil: es solo un buen elemento para almacenar datos de un alumno.\n",
    "\n",
    "Se puede contruir una clase sencilla que solo contemple propiedades utilizando `namedtuples`."
   ]
  },
  {
   "cell_type": "code",
   "execution_count": 230,
   "metadata": {},
   "outputs": [],
   "source": [
    "from collections import namedtuple\n",
    "\n",
    "Alumno = namedtuple('Alumno', ['nombre', 'apellido', 'codigo'])"
   ]
  },
  {
   "cell_type": "code",
   "execution_count": 231,
   "metadata": {},
   "outputs": [
    {
     "name": "stdout",
     "output_type": "stream",
     "text": [
      "Elvio\n",
      "Alumno(nombre='Elvio', apellido='Lado', codigo='a81277222')\n"
     ]
    }
   ],
   "source": [
    "alumno1 = Alumno('Elvio', 'Lado', 'a81277222')\n",
    "print(alumno1.nombre)\n",
    "print(alumno1)"
   ]
  },
  {
   "cell_type": "markdown",
   "metadata": {},
   "source": [
    "¡Y tiene su propio `__repr__`!"
   ]
  },
  {
   "cell_type": "markdown",
   "metadata": {},
   "source": [
    "## Metodos mágicos o \"dunder methods\"\n",
    "Los métodos que inician y terminan con \"__\" de denominan \"under-under\" o \"doble-under\" o \"dunder\" o simplemente métodos mágicos. Estos son la columna vertebral del Modelo de Datos de Python. El estudio de esto escapa el alcance de este curso, pero conocer la idea general de esto ayuda a entender la forma como Python funciona como lenguaje de programación.\n",
    "\n",
    "Los métodos mágicos son heredados de una *superclase* que es la clase Padre de todas las clases que se definen en Python. Muchas instrucciones y operaciones estan asociadas a estos métodos. Por ejemplo, cuando se numas dos variables tipo `int` como:\n",
    "\n",
    "    a, b = 3, 5\n",
    "    print(a + b)\n",
    "    \n",
    "Lo que realmente sucede es lo siguiente:\n",
    "\n",
    "    print(a.__add__(b))\n",
    "    \n",
    "Se esta invocando el método estático `__add__` sobre el objeto `a` con el parametro de entrada `b`. Esto es muy útil pues permite definir la operación suma en un objeto. Por ejemplo, si definimos una clase llamada Grupo:"
   ]
  },
  {
   "cell_type": "code",
   "execution_count": 251,
   "metadata": {},
   "outputs": [],
   "source": [
    "class Grupo:\n",
    "    def __init__(self, *args):\n",
    "        self.miembros = [arg for arg in args]\n",
    "        \n",
    "    def __repr__(self):\n",
    "        str_out = \"Miembros del grupo:\\n\"\n",
    "        for idx, miembro in enumerate(self.miembros, start=1):\n",
    "            str_out += f'{idx} - {miembro}\\n'\n",
    "            \n",
    "        return str_out"
   ]
  },
  {
   "cell_type": "markdown",
   "metadata": {},
   "source": [
    "Luego, podemos modificar nuestra clase Alumnos para hacer algo bastante natural:"
   ]
  },
  {
   "cell_type": "code",
   "execution_count": 252,
   "metadata": {},
   "outputs": [],
   "source": [
    "class Alumno:\n",
    "    def __init__(self, nombre='', apellido='', codigo=''):\n",
    "        self.nombre = nombre\n",
    "        self.apellido = apellido\n",
    "        self.codigo = codigo\n",
    "\n",
    "    def __add__(self, other):\n",
    "        return Grupo(self, other)\n",
    "\n",
    "    def __repr__(self):\n",
    "        return f\"Alumno(nombre={self.nombre}, apellido={self.apellido}, codigo={self.codigo})\""
   ]
  },
  {
   "cell_type": "code",
   "execution_count": 253,
   "metadata": {},
   "outputs": [
    {
     "name": "stdout",
     "output_type": "stream",
     "text": [
      "Miembros del grupo:\n",
      "1 - Alumno(nombre=Elvio, apellido=Lado, codigo=a81277222)\n",
      "2 - Alumno(nombre=Dina, apellido=Mita, codigo=u20181811)\n",
      "\n"
     ]
    }
   ],
   "source": [
    "alumno1 = Alumno('Elvio', 'Lado', 'a81277222')\n",
    "alumno2 = Alumno('Dina', 'Mita', 'u20181811')\n",
    "grupo = alumno1 + alumno2\n",
    "print(grupo)"
   ]
  },
  {
   "cell_type": "markdown",
   "metadata": {},
   "source": [
    "Hemos utilizado el operador `+` para sumar estudiantes y meterlos en un grupo de trabajo. Esto resulta mejor que tratar de crear un método en la clase `Grupo` que permita agregar alumnos a una clase, ¿no? Pero esto puede ponerse mejor. Modifiquemos la clase `Grupo` con dos métodos mágicos adicionales:"
   ]
  },
  {
   "cell_type": "code",
   "execution_count": 269,
   "metadata": {},
   "outputs": [],
   "source": [
    "class Grupo:\n",
    "    def __init__(self, *args):\n",
    "        self.miembros = [arg for arg in args]\n",
    "        \n",
    "    def __len__(self):\n",
    "        return len(self.miembros)\n",
    "               \n",
    "    def __getitem__(self, idx):\n",
    "        return self.miembros[idx]\n",
    "        \n",
    "    def __repr__(self):\n",
    "        str_out = \"Miembros del grupo:\\n\"\n",
    "        for idx, miembro in enumerate(self.miembros, start=1):\n",
    "            str_out += f'{idx} - {miembro}\\n'\n",
    "            \n",
    "        return str_out"
   ]
  },
  {
   "cell_type": "markdown",
   "metadata": {},
   "source": [
    "Parece poco pero ahora podemos hacer muchas cosas con un objeto clase `Grupo`. Primero, creemos un Grupo de cinco alumnos:"
   ]
  },
  {
   "cell_type": "code",
   "execution_count": 272,
   "metadata": {},
   "outputs": [
    {
     "name": "stdout",
     "output_type": "stream",
     "text": [
      "Miembros del grupo:\n",
      "1 - Alumno(nombre=Elvio, apellido=Lado, codigo=a81277222)\n",
      "2 - Alumno(nombre=Dina, apellido=Mita, codigo=u20181811)\n",
      "3 - Alumno(nombre=Elmer, apellido=Curio, codigo=u2019122)\n",
      "4 - Alumno(nombre=Alan, apellido=Brito, codigo=u20192816)\n",
      "5 - Alumno(nombre=Susana, apellido=Oria, codigo=u20162722)\n",
      "\n"
     ]
    }
   ],
   "source": [
    "alum1 = Alumno('Elvio', 'Lado', 'a81277222')\n",
    "alum2 = Alumno('Dina', 'Mita', 'u20181811')\n",
    "alum3 = Alumno('Elmer', 'Curio', 'u2019122')\n",
    "alum4 = Alumno('Alan', 'Brito', 'u20192816')\n",
    "alum5 = Alumno('Susana', 'Oria', 'u20162722')\n",
    "\n",
    "grupo = Grupo(alum1, alum2, alum3, alum4, alum5)\n",
    "print(grupo)"
   ]
  },
  {
   "cell_type": "markdown",
   "metadata": {},
   "source": [
    "Ahora podemos sacar cuantos miembros hay en el grupo:"
   ]
  },
  {
   "cell_type": "code",
   "execution_count": 273,
   "metadata": {},
   "outputs": [
    {
     "name": "stdout",
     "output_type": "stream",
     "text": [
      "5\n"
     ]
    }
   ],
   "source": [
    "print(len(grupo))"
   ]
  },
  {
   "cell_type": "markdown",
   "metadata": {},
   "source": [
    "Ademas, gracias al método `__getattr__` tenemos indices:"
   ]
  },
  {
   "cell_type": "code",
   "execution_count": 276,
   "metadata": {},
   "outputs": [
    {
     "name": "stdout",
     "output_type": "stream",
     "text": [
      "Alumno(nombre=Elvio, apellido=Lado, codigo=a81277222)\n",
      "Alumno(nombre=Susana, apellido=Oria, codigo=u20162722)\n"
     ]
    }
   ],
   "source": [
    "print(grupo[0])\n",
    "print(grupo[-1])"
   ]
  },
  {
   "cell_type": "markdown",
   "metadata": {},
   "source": [
    "Inclusive index slicing:"
   ]
  },
  {
   "cell_type": "code",
   "execution_count": 277,
   "metadata": {},
   "outputs": [
    {
     "name": "stdout",
     "output_type": "stream",
     "text": [
      "[Alumno(nombre=Elvio, apellido=Lado, codigo=a81277222), Alumno(nombre=Elmer, apellido=Curio, codigo=u2019122), Alumno(nombre=Susana, apellido=Oria, codigo=u20162722)]\n"
     ]
    }
   ],
   "source": [
    "print(grupo[::2])"
   ]
  },
  {
   "cell_type": "markdown",
   "metadata": {},
   "source": [
    "Y nuestro grupo es iterable!:"
   ]
  },
  {
   "cell_type": "code",
   "execution_count": 279,
   "metadata": {},
   "outputs": [
    {
     "name": "stdout",
     "output_type": "stream",
     "text": [
      "Elvio\n",
      "Dina\n",
      "Elmer\n",
      "Alan\n",
      "Susana\n"
     ]
    }
   ],
   "source": [
    "for alumno in grupo:\n",
    "    print(alumno.nombre)"
   ]
  },
  {
   "cell_type": "markdown",
   "metadata": {},
   "source": [
    "¿Y si queremos elegir un alumno al azar como delegado del grupo? No necesitamos definir un método en la clase `Grupo`. Podemos utilizar el método `choice` de la librería `random`:"
   ]
  },
  {
   "cell_type": "code",
   "execution_count": 295,
   "metadata": {},
   "outputs": [
    {
     "name": "stdout",
     "output_type": "stream",
     "text": [
      "Delegado: Elmer Curio\n"
     ]
    }
   ],
   "source": [
    "from random import choice\n",
    "\n",
    "delegado = choice(grupo)\n",
    "print(f\"Delegado: {delegado.nombre} {delegado.apellido}\")"
   ]
  },
  {
   "cell_type": "markdown",
   "metadata": {},
   "source": [
    "¿Y si queremos la lista de los alumnos del grupo ordenados por orden alfabetico en un función del nombre?..."
   ]
  },
  {
   "cell_type": "code",
   "execution_count": 301,
   "metadata": {},
   "outputs": [
    {
     "name": "stdout",
     "output_type": "stream",
     "text": [
      "Alumno(nombre=Alan, apellido=Brito, codigo=u20192816)\n",
      "Alumno(nombre=Dina, apellido=Mita, codigo=u20181811)\n",
      "Alumno(nombre=Elmer, apellido=Curio, codigo=u2019122)\n",
      "Alumno(nombre=Elvio, apellido=Lado, codigo=a81277222)\n",
      "Alumno(nombre=Susana, apellido=Oria, codigo=u20162722)\n"
     ]
    }
   ],
   "source": [
    "for alumno in sorted(grupo, key=lambda x: x.nombre):    # key: funcion que retorna el elemento de referencia para el ordenamiento\n",
    "    print(alumno)"
   ]
  },
  {
   "cell_type": "markdown",
   "metadata": {},
   "source": [
    "La simple definición de los métodos `__len__` y `__getitem__` permiten que nuestra clase pueda interactuar con el Modelo de Datos de Python."
   ]
  },
  {
   "cell_type": "markdown",
   "metadata": {},
   "source": [
    "## time y datetime\n",
    "La gestión del tiempo en Python es un dolor de cabeza. Esto porque hay diferentes maneras de hacer los mismo con diferentes módulos... Asi que para encontrar un orden, se puede tomar la siguiente guia de referencia:\n",
    "\n",
    "* time: información del tiempo (horas, minuto segundo)\n",
    "* datetime: manipulacion de fechas(operaciones con el tiempo)\n",
    "\n",
    "### time\n",
    "El módulo `time` permite obtener información del tiempo. Por ejemplo, se puede obtener una *estructura* del tiempo con `time.localtime` de tal forma que los diferentes campos se puede extraer con el operador `.`: "
   ]
  },
  {
   "cell_type": "code",
   "execution_count": 318,
   "metadata": {},
   "outputs": [
    {
     "name": "stdout",
     "output_type": "stream",
     "text": [
      "time.struct_time(tm_year=2020, tm_mon=7, tm_mday=20, tm_hour=15, tm_min=30, tm_sec=26, tm_wday=0, tm_yday=202, tm_isdst=0)\n",
      "15:30\n",
      "Han pasado 202 dias desde el 1 de Enero de 2020\n"
     ]
    }
   ],
   "source": [
    "import time\n",
    "\n",
    "time_now = time.localtime()\n",
    "print(time_now)\n",
    "\n",
    "print(f\"{time_now.tm_hour}:{time_now.tm_min}\")\n",
    "print(f\"Han pasado {time_now.tm_yday} dias desde el 1 de Enero de {time_now.tm_year}\")"
   ]
  },
  {
   "cell_type": "markdown",
   "metadata": {},
   "source": [
    "La información del tiempo se puede obtener (en inglés) como una cadena de impresión con `time.asctime` (\"asc\" de ASCII):"
   ]
  },
  {
   "cell_type": "code",
   "execution_count": 319,
   "metadata": {},
   "outputs": [
    {
     "data": {
      "text/plain": [
       "'Mon Jul 20 15:30:33 2020'"
      ]
     },
     "execution_count": 319,
     "metadata": {},
     "output_type": "execute_result"
    }
   ],
   "source": [
    "time.asctime()    # Por defecto es el tiempo actual. Prueba como argumento time_now"
   ]
  },
  {
   "cell_type": "markdown",
   "metadata": {},
   "source": [
    "Sin embargo, una buena practica de programación no es usar el tiempo local sino el tiempo universal (UTC). Esto es, información de tiempo referenciado a un meridiano terreste (UTC-0). Esto permite generar un valor de tiempo que será reconocido y convertido a tiempo local en la zona de consulta. Para esto se necesita un tiempo de referencia donde todos los husos horarios consideren \"el inicio del tiempo\". Eso existe, es el \"UNIX Time\" referenciado a un \"epoch\": 1 de enero de 1970."
   ]
  },
  {
   "cell_type": "code",
   "execution_count": 323,
   "metadata": {},
   "outputs": [
    {
     "name": "stdout",
     "output_type": "stream",
     "text": [
      "1595277085.9266865\n"
     ]
    }
   ],
   "source": [
    "time_now = time.time()\n",
    "print(time_now)"
   ]
  },
  {
   "cell_type": "markdown",
   "metadata": {},
   "source": [
    "Ese es el número de segundos que han transcurrido desde el 1 de enero de 1970. Si queremos retornar esto a una estructure de tiempos debemos llamar al método `time.gmtime` (\"gm\" de \"Greenwich Mean Time\" o \"GMT\"):"
   ]
  },
  {
   "cell_type": "code",
   "execution_count": 333,
   "metadata": {},
   "outputs": [
    {
     "data": {
      "text/plain": [
       "time.struct_time(tm_year=2020, tm_mon=7, tm_mday=20, tm_hour=20, tm_min=31, tm_sec=25, tm_wday=0, tm_yday=202, tm_isdst=0)"
      ]
     },
     "execution_count": 333,
     "metadata": {},
     "output_type": "execute_result"
    }
   ],
   "source": [
    "time.gmtime(time_now)"
   ]
  },
  {
   "cell_type": "markdown",
   "metadata": {},
   "source": [
    "Estas estrcturas de tiempo se pueden mostrar con un formato personalizado (ya que al usar `asctime` obtendremos una respuesta en inglés y con un formato fijo) con el método `time.strftime` que tiene la siguiente forma:\n",
    "\n",
    "(Extraido de la ayuda del método `time.strftime`)\n",
    "\n",
    "    strftime(...)\n",
    "        strftime(format[, tuple]) -> string\n",
    "\n",
    "        Convert a time tuple to a string according to a format specification.\n",
    "        See the library reference manual for formatting codes. When the time tuple\n",
    "        is not present, current time as returned by localtime() is used.\n",
    "\n",
    "        Commonly used format codes:\n",
    "\n",
    "        %Y  Year with century as a decimal number.\n",
    "        %m  Month as a decimal number [01,12].\n",
    "        %d  Day of the month as a decimal number [01,31].\n",
    "        %H  Hour (24-hour clock) as a decimal number [00,23].\n",
    "        %M  Minute as a decimal number [00,59].\n",
    "        %S  Second as a decimal number [00,61].\n",
    "        %z  Time zone offset from UTC.\n",
    "        %a  Locale's abbreviated weekday name.\n",
    "        %A  Locale's full weekday name.\n",
    "        %b  Locale's abbreviated month name.\n",
    "        %B  Locale's full month name.\n",
    "        %c  Locale's appropriate date and time representation.\n",
    "        %I  Hour (12-hour clock) as a decimal number [01,12].\n",
    "        %p  Locale's equivalent of either AM or PM.\n",
    "\n",
    "        Other codes may be available on your platform.  See documentation for\n",
    "        the C library strftime function."
   ]
  },
  {
   "cell_type": "code",
   "execution_count": 338,
   "metadata": {},
   "outputs": [
    {
     "data": {
      "text/plain": [
       "'03:41:21 PM'"
      ]
     },
     "execution_count": 338,
     "metadata": {},
     "output_type": "execute_result"
    }
   ],
   "source": [
    "time.strftime(\"%I:%M:%S %p\", time.localtime())"
   ]
  },
  {
   "cell_type": "markdown",
   "metadata": {},
   "source": [
    "### datetime\n",
    "El módulo `datetime` se utiliza para hacer operaciones con las fechas. Esto resulta muy útil pues evita tener que hacer calculos complejos para calcular una fecha en el futuro o en el pasado, tomando en consideración los años bisiestos, los meses de 30 o 31 dias, etc.\n",
    "\n",
    "Para obtener la fecha de hoy como un objeto DateTime llamamos al método `datetime.datetime.now`:"
   ]
  },
  {
   "cell_type": "code",
   "execution_count": 3,
   "metadata": {},
   "outputs": [
    {
     "name": "stdout",
     "output_type": "stream",
     "text": [
      "2020-07-23 19:14:29.127380\n"
     ]
    }
   ],
   "source": [
    "import datetime\n",
    "\n",
    "time_now = datetime.datetime.now()\n",
    "print(time_now)"
   ]
  },
  {
   "cell_type": "markdown",
   "metadata": {},
   "source": [
    "O podemos definir una fecha en el futuro:"
   ]
  },
  {
   "cell_type": "code",
   "execution_count": 4,
   "metadata": {},
   "outputs": [
    {
     "name": "stdout",
     "output_type": "stream",
     "text": [
      "2001-01-01 00:00:00\n"
     ]
    }
   ],
   "source": [
    "time_past = datetime.datetime(2001, 1, 1, 0, 0)    # 1 de Enero 2001, 00:00 horas\n",
    "print(time_past)"
   ]
  },
  {
   "cell_type": "markdown",
   "metadata": {},
   "source": [
    "Si hacemos una operaciones de suma o resta obtendermos un nuevo objeto: `timedelta`, una diferencia de tiempo:"
   ]
  },
  {
   "cell_type": "code",
   "execution_count": 5,
   "metadata": {},
   "outputs": [
    {
     "name": "stdout",
     "output_type": "stream",
     "text": [
      "7143 days, 19:14:29.127380\n"
     ]
    }
   ],
   "source": [
    "time_delta = time_now - time_past     # Cuanto tiempo ha transcurido del siglo XXI?\n",
    "print(time_delta)"
   ]
  },
  {
   "cell_type": "markdown",
   "metadata": {},
   "source": [
    "Se puede definir un `timedelta` para calcular una fecha (se define con información de segundos, minutos, horas o dias)."
   ]
  },
  {
   "cell_type": "code",
   "execution_count": 6,
   "metadata": {},
   "outputs": [
    {
     "name": "stdout",
     "output_type": "stream",
     "text": [
      "2020-10-31 19:14:32.585384\n"
     ]
    }
   ],
   "source": [
    "time_delta = datetime.timedelta(days=100)\n",
    "time_future = datetime.datetime.now() + time_delta\n",
    "print(time_future)"
   ]
  },
  {
   "cell_type": "code",
   "execution_count": null,
   "metadata": {},
   "outputs": [],
   "source": []
  }
 ],
 "metadata": {
  "kernelspec": {
   "display_name": "Python 3",
   "language": "python",
   "name": "python3"
  },
  "language_info": {
   "codemirror_mode": {
    "name": "ipython",
    "version": 3
   },
   "file_extension": ".py",
   "mimetype": "text/x-python",
   "name": "python",
   "nbconvert_exporter": "python",
   "pygments_lexer": "ipython3",
   "version": "3.7.6"
  }
 },
 "nbformat": 4,
 "nbformat_minor": 4
}
