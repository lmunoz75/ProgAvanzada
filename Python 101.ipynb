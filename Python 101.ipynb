{
 "cells": [
  {
   "cell_type": "markdown",
   "metadata": {},
   "source": [
    "# Python 101"
   ]
  },
  {
   "cell_type": "markdown",
   "metadata": {},
   "source": [
    "## Funciones\n",
    "Las funciones son codigos autónomos que implementan soluciones puntuales. Son parte del rompecabezas que puede ser un proyecto de programación final. Consisten en un bloque de codigo que toma valores de entrada (parametros) para ser parte del proceso y retornar un valor o varios como resultado"
   ]
  },
  {
   "cell_type": "code",
   "execution_count": null,
   "metadata": {},
   "outputs": [],
   "source": [
    "def factores_primos(n):\n",
    "    # Se tienen condiciones iniciales\n",
    "    div = 2\n",
    "    factores = []\n",
    "    # Lazo que encuentra los divisores del numero (factores)\n",
    "    while n is not 1:\n",
    "        # Si se tiene un factor, se guarda en la lista de salida\n",
    "        if n % div == 0:\n",
    "            factores.append(div)\n",
    "            n //=  div\n",
    "        else:\n",
    "            # ...de lo contrario se pasa a considerar el siguiente posible divisor\n",
    "            div += 1\n",
    "            \n",
    "    return factores\n",
    "        \n",
    "factores_primos(65535)"
   ]
  },
  {
   "cell_type": "markdown",
   "metadata": {},
   "source": [
    "En la documentacion de Python se puede observar un par de parametros que pueden ser desconocidos: `*args` y `**kwargs`. Estos nombres son estandar de facto para especificar un numero aleatorio de argumentos y los argumentos que tengas un \"keyword\" asociado"
   ]
  },
  {
   "cell_type": "code",
   "execution_count": null,
   "metadata": {},
   "outputs": [],
   "source": [
    "def lista_pares(*args, **kwargs):\n",
    "    options = args     # Tupla con los argumentos\n",
    "    keywords = kwargs  # Diccionario con los keywords: valores\n",
    "    lista = []\n",
    "    \n",
    "    if len(options) == 2:\n",
    "        fin = options[1]\n",
    "        if options[0] % 2 == 0:\n",
    "            ini = options[0]\n",
    "        else:\n",
    "            ini = options[0] + 1\n",
    "    elif len(options) == 1:\n",
    "            ini = 0\n",
    "            fin = options[0]\n",
    "            \n",
    "    if keywords.get('endpoint', False):\n",
    "        fin += 1\n",
    "            \n",
    "    for n in range(ini, fin, 2):\n",
    "        lista.append(n)\n",
    "    \n",
    "    return lista\n",
    "    \n",
    "print(lista_pares(15))\n",
    "print(lista_pares(1, 16))\n",
    "print(lista_pares(1, 16, endpoint=True))"
   ]
  },
  {
   "cell_type": "markdown",
   "metadata": {},
   "source": [
    "## enumerate\n",
    "Instrucción de Python que retorna una lista enumerada que puede ser desempaquetada por medio de un iterador (como un lazo for)"
   ]
  },
  {
   "cell_type": "code",
   "execution_count": null,
   "metadata": {},
   "outputs": [],
   "source": [
    "import random\n",
    "\n",
    "listado_numeros = []\n",
    "\n",
    "for n in range(10):\n",
    "    listado_numeros.append(random.randrange(1, 101))\n",
    "    \n",
    "print(\"LISTADO DE NUMEROS ENTRE 1 Y 100\")\n",
    "print(\"-\" * 32)\n",
    "for idx, num in enumerate(listado_numeros):\n",
    "    print(f\"{idx+1:2}: {num}\")"
   ]
  },
  {
   "cell_type": "markdown",
   "metadata": {},
   "source": [
    "## zip\n",
    "Instrucción que permite desempaquetar los valores de varios contenedores (listas, tuplas) en diferentes variables. Los contenedores deben de tener el mismo número de elementos (en caso contrario, se obtendrá el número de elementos igual al contenedor más pequeño)."
   ]
  },
  {
   "cell_type": "code",
   "execution_count": null,
   "metadata": {},
   "outputs": [],
   "source": [
    "import random\n",
    "\n",
    "l1 = []\n",
    "l2 = []\n",
    "l3 = []\n",
    "\n",
    "for n in range(5):\n",
    "    l1.append(random.uniform(1, 10))\n",
    "    l2.append(random.uniform(1, 10))\n",
    "    l3.append(random.uniform(1, 10))\n",
    "\n",
    "for col1, col2, col3 in zip(l1, l2, l3):\n",
    "    print(f\"{col1:.2f} | {col2:.2f} | {col3:.2f}\")"
   ]
  },
  {
   "cell_type": "markdown",
   "metadata": {},
   "source": [
    "## List comprehension\n",
    "Permite crear listas de forma resumida con instrucciones empaquetadas siguiendo las reglas de la \"programacion funcional\". Esto permite que aunque no sea una estructura visualmente natural si sea gramaticalmente simple"
   ]
  },
  {
   "cell_type": "code",
   "execution_count": null,
   "metadata": {},
   "outputs": [],
   "source": [
    "ABC = [chr(char) for char in range(ord('A'), ord('Z') + 1)]\n",
    "abc = [chr(char).lower() for char in range(ord('A'), ord('Z') + 1)]\n",
    "\n",
    "for LETTER, letter in zip(ABC, abc):\n",
    "    print(\"{} - {}\".format(letter, LETTER))"
   ]
  },
  {
   "cell_type": "markdown",
   "metadata": {},
   "source": [
    "## Map, Filter y Lambda Expresions\n",
    "La instruccion map permite procesar los elementos de una lista por una función que realice alguna operación aritmética. La instruccion filter hace lo mismo pero utilizando una función que realiza alguna operación lógica. Para ambos casos, la definición de la función puede ser \"anónima\", lo que se conoce como funciones \"lambda\"."
   ]
  },
  {
   "cell_type": "code",
   "execution_count": null,
   "metadata": {},
   "outputs": [],
   "source": [
    "from random import randrange\n",
    "\n",
    "notas = [randrange(5, 18) for i in range(12)]\n",
    "notas_curva = list(map(lambda x: x + 2, notas))\n",
    "num_aprobados = len(list(filter(lambda x: x > 10, notas_curva)))\n",
    "\n",
    "for nota, nota_curva in zip(notas, notas_curva):\n",
    "    print(f\"{nota:0>2} -> {nota_curva:0>2}\")\n",
    "    \n",
    "print(f\"\\nNumero de aprobados: {num_aprobados}\")"
   ]
  },
  {
   "cell_type": "markdown",
   "metadata": {},
   "source": [
    "## yield\n",
    "La instruccion `yield` permite generar \"iteradores\". Estos son de utilidad si se quieren generar una gran cantidad de datos para luego ser procesados por un lazo for (iterador) sin tener que ocupar grandes porciones de memoria."
   ]
  },
  {
   "cell_type": "code",
   "execution_count": null,
   "metadata": {},
   "outputs": [],
   "source": [
    "def genera_letras(case='upper'):\n",
    "    if case == 'upper':\n",
    "        letter_ini = 'A'\n",
    "    elif case == 'lower':\n",
    "        letter_ini = 'a'\n",
    "        \n",
    "    for alpha in range(ord(letter_ini), ord(letter_ini) + 26):\n",
    "        yield chr(alpha)"
   ]
  },
  {
   "cell_type": "code",
   "execution_count": null,
   "metadata": {},
   "outputs": [],
   "source": [
    "genera_letras()"
   ]
  },
  {
   "cell_type": "code",
   "execution_count": null,
   "metadata": {},
   "outputs": [],
   "source": [
    "iterador = genera_letras(case='lower')\n",
    "for letra in iterador:\n",
    "    print(letra)"
   ]
  },
  {
   "cell_type": "markdown",
   "metadata": {},
   "source": [
    "## Archivos\n",
    "Se pueden escribir o leer archivos de texto en Python para almacenar información en forma de texto."
   ]
  },
  {
   "cell_type": "code",
   "execution_count": null,
   "metadata": {},
   "outputs": [],
   "source": [
    "# Generamos un archivo de texto\n",
    "from random import randrange\n",
    "\n",
    "nombres = ['Juan', 'Pedro', 'Maria', 'Cecilia', 'Renato', 'Cesar', 'Ana', 'Roberto', 'Maria']\n",
    "apellidos = ['Perez', 'Quispe', 'Palomino', 'Quezada', 'Ramos', 'Salas', 'Porras', 'Gomez', 'Gonzalez']\n",
    "contactos = set()\n",
    "num_iteraciones = 12\n",
    "\n",
    "for i in range(num_iteraciones):\n",
    "    contactos.add(nombres[randrange(len(nombres))] + ' ' + apellidos[randrange(len(apellidos))])\n",
    "\n",
    "with open(\"contactos.txt\", mode='w') as f: \n",
    "    for contacto in contactos:\n",
    "        f.write(contacto + '\\n')\n",
    "\n",
    "        \n",
    "# Leemos el archivo de texto\n",
    "f = open(\"contactos.txt\")\n",
    "lista_contactos = f.readlines()\n",
    "f.close()\n",
    "\n",
    "lista_contactos.sort()\n",
    "for idx, contacto in enumerate(lista_contactos):\n",
    "    print(f\"{idx+1:2}: {contacto.strip()}\")"
   ]
  },
  {
   "cell_type": "markdown",
   "metadata": {},
   "source": [
    "También se puede registrar texto con algún formato de intercambio, como un archivo CSV, donde los datos estan separados por algún caracter especial (\",\" o \";\")"
   ]
  },
  {
   "cell_type": "code",
   "execution_count": null,
   "metadata": {},
   "outputs": [],
   "source": [
    "import csv\n",
    "from random import randrange\n",
    "\n",
    "nombres = ['Juan', 'Pedro', 'Maria', 'Cecilia', 'Renato', 'Cesar', 'Ana', 'Roberto', 'Maria']\n",
    "apellidos = ['Perez', 'Quispe', 'Palomino', 'Quezada', 'Ramos', 'Salas', 'Porras', 'Gomez', 'Gonzalez']\n",
    "contactos = set()\n",
    "num_iteraciones = 12\n",
    "\n",
    "for i in range(num_iteraciones):\n",
    "    contactos.add(nombres[randrange(len(nombres))] + ';' + apellidos[randrange(len(apellidos))])\n",
    "\n",
    "# Se genera un archivo CSV (separado por \";\")\n",
    "with open(\"contactos.csv\", mode='w') as f: \n",
    "    f.write(\"NOMBRE; APELLIDO\\n\")\n",
    "    for contacto in contactos:\n",
    "        f.write(contacto + '\\n')\n",
    "\n",
    "# Se lee el contenido del archivo CSV\n",
    "with open(\"contactos.csv\") as csv_file:\n",
    "    reader = csv.reader(csv_file, delimiter=\";\")\n",
    "    next(reader)\n",
    "    for nombre, apellido in reader:\n",
    "        print(apellido + \", \" + nombre)"
   ]
  },
  {
   "cell_type": "markdown",
   "metadata": {},
   "source": [
    "Otro formato muy popular en el intercambio de datos es el JSON (JavaScript Object Notation) en donde los datos se registran en un formato par llave-valor (un diccionario) lo que hace que la información tenga un formato y sea legible."
   ]
  },
  {
   "cell_type": "code",
   "execution_count": 69,
   "metadata": {},
   "outputs": [
    {
     "name": "stdout",
     "output_type": "stream",
     "text": [
      "Contacto  1:\n",
      "\tNombre: Pedro\n",
      "\tApellido: Gomez\n",
      "\n",
      "Contacto  2:\n",
      "\tNombre: Juan\n",
      "\tApellido: Gonzalez\n",
      "\n",
      "Contacto  3:\n",
      "\tNombre: Maria\n",
      "\tApellido: Quispe\n",
      "\n",
      "Contacto  4:\n",
      "\tNombre: Pedro\n",
      "\tApellido: Quispe\n",
      "\n"
     ]
    }
   ],
   "source": [
    "import json\n",
    "from random import randrange\n",
    "\n",
    "nombres = ['Juan', 'Pedro', 'Maria', 'Cecilia', 'Renato', 'Cesar', 'Ana', 'Roberto', 'Maria']\n",
    "apellidos = ['Perez', 'Quispe', 'Palomino', 'Quezada', 'Ramos', 'Salas', 'Porras', 'Gomez', 'Gonzalez']\n",
    "num_iteraciones = 4\n",
    "\n",
    "# Se genera un diccionario con una llave contactos y un lista como valor con un diccionario con\n",
    "# la informacion de contacto (nombre, apellido)\n",
    "data = dict(contactos=[])\n",
    "\n",
    "for i in range(num_iteraciones):\n",
    "    data['contactos'].append({'nombre': nombres[randrange(len(nombres))],\n",
    "                            'apellido': apellidos[randrange(len(apellidos))]\n",
    "                           })\n",
    "    \n",
    "with open(\"data.json\", mode='w') as json_file:\n",
    "    json.dump(data, json_file)\n",
    "\n",
    "# Se lee el archivo JSON para obtener los datos en forma de diccionario\n",
    "with open(\"data.json\") as json_file:\n",
    "    data = json.load(json_file)\n",
    "\n",
    "for idx, contactos in enumerate(data['contactos']):\n",
    "    print(f\"Contacto {idx+1:2}:\")\n",
    "    for k, v in contactos.items():\n",
    "        print(f\"\\t{k.capitalize()}: {v.capitalize()}\")\n",
    "    else:\n",
    "        print()"
   ]
  },
  {
   "cell_type": "code",
   "execution_count": null,
   "metadata": {},
   "outputs": [],
   "source": [
    "# Otra forma de leer barrer un registro JSON en utilizando json.dumps y especificando\n",
    "# el numero de espacios para la indentancion con el keyword \"indent\"\n",
    "with open(\"data.json\") as json_file:\n",
    "    data = json.load(json_file)\n",
    "    \n",
    "print(json.dumps(data, indent=4))"
   ]
  },
  {
   "cell_type": "markdown",
   "metadata": {},
   "source": [
    "## Programacion Orientada a Objetos (OOP)\n",
    "Es un paradigma de programacion en el que se crea una entidad llamada \"clase\" que encapsula en una sola estructura propiedades (variables) y funciones (métodos) asociados a un \"objeto\". Luego, estos objetos pueden ser \"instanciados\" a partir de una clase que sirve como plantilla."
   ]
  },
  {
   "cell_type": "code",
   "execution_count": null,
   "metadata": {},
   "outputs": [],
   "source": [
    "class _Persona:\n",
    "    def __init__(self, nombre='', apellido='', ID=''):\n",
    "        self.nombre = nombre\n",
    "        self.apellido = apellido\n",
    "        self.ID = ID\n",
    "        \n",
    "    @property\n",
    "    def nombre(self):\n",
    "        return self.__nombre\n",
    "    \n",
    "    @nombre.setter\n",
    "    def nombre(self, val):\n",
    "        if isinstance(val, str):\n",
    "            self.__nombre = val\n",
    "        else:\n",
    "            raise TypeError(\"El campo 'nombre' debe ser tipo 'str'\")\n",
    "    \n",
    "    @property\n",
    "    def apellido(self):\n",
    "        return self.__apellido\n",
    "    \n",
    "    @apellido.setter\n",
    "    def apellido(self, val):\n",
    "        if isinstance(val, str):\n",
    "            self.__apellido = val\n",
    "        else:\n",
    "            raise TypeError(\"El campo 'apellido' debe ser tipo 'str'\")\n",
    "    \n",
    "    @property\n",
    "    def ID(self):\n",
    "        return self.__ID\n",
    "    \n",
    "    @ID.setter\n",
    "    def ID(self, val):\n",
    "        if isinstance(val, str):\n",
    "            self.__ID = val\n",
    "        else:\n",
    "            raise TypeError(\"El campo 'ID' debe ser tipo 'str'\")\n"
   ]
  },
  {
   "cell_type": "code",
   "execution_count": null,
   "metadata": {},
   "outputs": [],
   "source": [
    "class Contacto(_Persona):\n",
    "    def __init__(self, nombre, apellido, ID, telefono=''):\n",
    "        super().__init__(nombre, apellido, ID)\n",
    "        self.__mail = self.__set_mail()\n",
    "        self.telefono = telefono\n",
    "     \n",
    "    def __set_mail(self):\n",
    "        return self.nombre[0].lower() + self.apellido[1:8]+ \"@mail.com\"\n",
    "    \n",
    "    @property\n",
    "    def telefono(self):\n",
    "        return self.__telefono\n",
    "    \n",
    "    @telefono.setter\n",
    "    def telefono(self,val):\n",
    "        if isinstance(val,str):\n",
    "            if val[0] == '9':\n",
    "                self.__telefono = val\n",
    "            else:\n",
    "                raise ValueError(\"El dato 'telefono' debe ser un numero celular valido\")\n",
    "        else:\n",
    "            raise TypeError(\"El dato 'telefono' debe ser un 'str'\")\n",
    "    \n",
    "    \n",
    "    def __repr__(self):\n",
    "        str_out = \"Contacto:\\n\"\n",
    "        str_out += \"\\tNombre: {}\\n\".format(self.nombre)\n",
    "        str_out += \"\\tApellido: {}\\n\".format(self.apellido)\n",
    "        str_out += \"\\tID: {}\\n\".format(self.ID)\n",
    "        str_out += \"\\tMail: {}\\n\".format(self.__mail)\n",
    "        str_out += \"\\tTelefono: {}\\n\".format(self.telefono)\n",
    "        return str_out\n",
    "        \n",
    "p1 = Contacto(nombre='Juan', apellido='Perez', ID='1029282', telefono='987-876-987')\n",
    "print(p1)"
   ]
  },
  {
   "cell_type": "code",
   "execution_count": null,
   "metadata": {},
   "outputs": [],
   "source": [
    "dir(p1)"
   ]
  },
  {
   "cell_type": "markdown",
   "metadata": {},
   "source": [
    "## Tiempo en Python - `time`\n",
    "El tiempo es un objeto medible en Python, gracias a la libreria `time`"
   ]
  },
  {
   "cell_type": "code",
   "execution_count": 46,
   "metadata": {},
   "outputs": [
    {
     "name": "stdout",
     "output_type": "stream",
     "text": [
      "Hora: 12\n",
      "Minuto: 43\n",
      "Segundo: 56\n",
      "\n",
      "Dia: 6\n",
      "Mes: 3\n",
      "Año: 2019\n",
      "\n",
      "Dia del año: 65\n",
      "\n",
      "Wed Mar  6 12:43:56 2019\n"
     ]
    }
   ],
   "source": [
    "import time\n",
    "\n",
    "time_now = time.localtime()\n",
    "\n",
    "print(\"Hora:\", time_now.tm_hour)\n",
    "print(\"Minuto:\", time_now.tm_min)\n",
    "print(\"Segundo:\", time_now.tm_sec)\n",
    "print()\n",
    "print(\"Dia:\", time_now.tm_mday)\n",
    "print(\"Mes:\", time_now.tm_mon)\n",
    "print(\"Año:\", time_now.tm_year)\n",
    "print()\n",
    "print(\"Dia del año:\", time_now.tm_yday)\n",
    "print()\n",
    "print(time.asctime())"
   ]
  },
  {
   "cell_type": "code",
   "execution_count": 47,
   "metadata": {},
   "outputs": [
    {
     "name": "stdout",
     "output_type": "stream",
     "text": [
      "1551894262.023372\n",
      "Wed Mar  6 12:44:22 2019\n"
     ]
    }
   ],
   "source": [
    "# time.time() retorna el numero de segundos desde el UNIX epoch (1/1/1970)\n",
    "# time.ctime() toma el UNIX time y lo retorna en formato impreso\n",
    "time_now = time.time() \n",
    "\n",
    "print(time_now)\n",
    "print(time.ctime(time_now))"
   ]
  },
  {
   "cell_type": "code",
   "execution_count": 49,
   "metadata": {},
   "outputs": [
    {
     "name": "stdout",
     "output_type": "stream",
     "text": [
      "Fecha y Hora: 06/03/2019 12:45:51 PM\n"
     ]
    }
   ],
   "source": [
    "# strftime(format_string) permite formtear el tiempo utilizando un struct_time\n",
    "time_now = time.localtime()\n",
    "\n",
    "print(\"Fecha y Hora:\", time.strftime(\"%d/%m/%Y %H:%M:%S %p\", time_now))"
   ]
  },
  {
   "cell_type": "markdown",
   "metadata": {},
   "source": [
    "## Tiempo en Python - `datetime`\n",
    "La fecha y hora tambien son objetos que pueden ser manipulados en Python, utilizando la librería `datetime`"
   ]
  },
  {
   "cell_type": "code",
   "execution_count": 51,
   "metadata": {},
   "outputs": [
    {
     "name": "stdout",
     "output_type": "stream",
     "text": [
      "'fecha' es un objeto ---> <class 'datetime.datetime'>\n",
      "\n",
      "Hora: 12\n",
      "Minuto: 47\n",
      "Dia: 6\n",
      "Mes: 3\n",
      "Año: 2019\n",
      "\n",
      "Wednesday 06/03/2019 12:03 PM\n"
     ]
    }
   ],
   "source": [
    "import datetime\n",
    "\n",
    "fecha = datetime.datetime.now()\n",
    "print(\"'fecha' es un objeto --->\", type(fecha))\n",
    "print()\n",
    "print(\"Hora:\", fecha.hour)\n",
    "print(\"Minuto:\", fecha.minute)\n",
    "print(\"Dia:\", fecha.day)\n",
    "print(\"Mes:\", fecha.month)\n",
    "print(\"Año:\", fecha.year)\n",
    "print()\n",
    "print(fecha.strftime(\"%A %d/%m/%Y %H:%m %p\"))"
   ]
  },
  {
   "cell_type": "code",
   "execution_count": 56,
   "metadata": {},
   "outputs": [
    {
     "name": "stdout",
     "output_type": "stream",
     "text": [
      "<class 'datetime.timedelta'>\n",
      "16076 days, 13:04:54.921777\n"
     ]
    },
    {
     "data": {
      "text/plain": [
       "16076"
      ]
     },
     "execution_count": 56,
     "metadata": {},
     "output_type": "execute_result"
    }
   ],
   "source": [
    "fecha_nac = datetime.datetime(1975, 2, 28, 23, 45, 0)\n",
    "fecha_hoy = datetime.datetime.now()\n",
    "\n",
    "# Cuando se suman o restan dos objetos clase datetime, lo que se obtiene es un timedelta\n",
    "delta_tiempo = fecha_hoy - fecha_nac\n",
    "print(type(delta_tiempo))\n",
    "print(delta_tiempo)"
   ]
  },
  {
   "cell_type": "code",
   "execution_count": 68,
   "metadata": {},
   "outputs": [
    {
     "name": "stdin",
     "output_type": "stream",
     "text": [
      "Ingrese su fecha de nacimiento [dd/mm/yyyy]:  28/2/1975\n",
      "Cuantos años espera vivir?:  85\n"
     ]
    },
    {
     "name": "stdout",
     "output_type": "stream",
     "text": [
      "Aun le quedan 14947 dias en este mundo. Disfrutelos...\n"
     ]
    }
   ],
   "source": [
    "# Cuanto tiempo de vida me queda...\n",
    "dd_nac, mm_nac, yy_nac = input(\"Ingrese su fecha de nacimiento [dd/mm/yyyy]: \").split(\"/\")\n",
    "fecha_nac = datetime.datetime(int(yy_nac), int(mm_nac), int(dd_nac), 0, 0, 0)\n",
    "\n",
    "n_anios = int(input(\"Cuantos años espera vivir?: \"))\n",
    "delta_anios = datetime.timedelta(days=365 * n_anios)\n",
    "\n",
    "fecha_fin = fecha_nac + delta_anios\n",
    "dias_restantes = fecha_fin - datetime.datetime.now()\n",
    "\n",
    "print(f\"Aun le quedan {dias_restantes.days} dias en este mundo. Disfrutelos...\")"
   ]
  }
 ],
 "metadata": {
  "kernelspec": {
   "display_name": "Python 3",
   "language": "python",
   "name": "python3"
  },
  "language_info": {
   "codemirror_mode": {
    "name": "ipython",
    "version": 3
   },
   "file_extension": ".py",
   "mimetype": "text/x-python",
   "name": "python",
   "nbconvert_exporter": "python",
   "pygments_lexer": "ipython3",
   "version": "3.7.0"
  }
 },
 "nbformat": 4,
 "nbformat_minor": 2
}
