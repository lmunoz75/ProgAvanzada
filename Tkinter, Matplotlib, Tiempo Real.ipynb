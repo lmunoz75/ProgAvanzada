{
 "cells": [
  {
   "cell_type": "markdown",
   "metadata": {},
   "source": [
    "# tkinter, Canvas, matplotlib y la libreria psutil\n",
    "La libreria `psutil` permite obtener información del CPU y de todos los perifericos en tiempos real. Vamos a utilizar esta libreria para obtener información real sobre un sistema para poder mostrarla en un ambiente gráfico y posteriormente combinarla con un grafico de maptlotlib insertado dentro de un Canvas especial llamado FigureCanvasTkAgg"
   ]
  },
  {
   "cell_type": "code",
   "execution_count": 3,
   "metadata": {},
   "outputs": [
    {
     "name": "stdout",
     "output_type": "stream",
     "text": [
      "Uso del CPU(%): 19.2\n",
      "Velocidad del CPU(Ghz) 2500.0\n",
      "Total de memoria(GB): 12.307968\n",
      "Memoria en uso(%): 41.5\n",
      "Interface Ethernet IP: 169.254.180.136\n"
     ]
    }
   ],
   "source": [
    "# pip install psutil\n",
    "import psutil\n",
    "\n",
    "print(\"Uso del CPU(%):\", psutil.cpu_percent())\n",
    "print(\"Velocidad del CPU(Ghz)\", psutil.cpu_freq().current)\n",
    "print(\"Total de memoria(GB):\", psutil.virtual_memory().total/1e9)\n",
    "print(\"Memoria en uso(%):\", psutil.virtual_memory().percent)\n",
    "print(\"Interface Ethernet IP:\", psutil.net_if_addrs()['Ethernet'][1].address)"
   ]
  },
  {
   "cell_type": "markdown",
   "metadata": {},
   "source": [
    "Vamos a combinar la informacion que nos da la librería `psutil` con algun indicador gráfico de tkinter que permita visualizar el uso de la CPU (`ttk.Progressbar`).\n",
    "\n",
    "Adicionalmente, utilizaremos el método `after` de una ventana (`root.after(ms, func)`) para invocar a una función luego de un tiempo y utilizando un encadenamiento de funciones lograremos actualizar la información de forma continua."
   ]
  },
  {
   "cell_type": "code",
   "execution_count": 2,
   "metadata": {},
   "outputs": [],
   "source": [
    "# MONITOR DE USO DE CPU Y MEMORIA (PROGRESSBAR)\n",
    "import tkinter as tk\n",
    "from tkinter import ttk\n",
    "import psutil\n",
    "\n",
    "root = tk.Tk()\n",
    "root.title(\"CPU Monitor\")\n",
    "root.geometry(\"250x150\")\n",
    "root.config(bg='black')\n",
    "\n",
    "valCPU = tk.DoubleVar(value=0.0)\n",
    "valMEM = tk.DoubleVar(value=0.0)\n",
    "\n",
    "frm = tk.Frame(root, bg='black')\n",
    "frm.pack()\n",
    "\n",
    "lblCPU_Usage = tk.Label(frm, text=\"   CPU Usage: \", bg='black', fg='white')     \n",
    "lblCPU_Usage_percent = tk.Label(frm, text=\"{:.1f}%\".format(valCPU.get()), bg='black', fg='white')\n",
    "barCPU_Usage = ttk.Progressbar(frm, length=200, variable=valCPU)\n",
    "lblMemory_Usage = tk.Label(frm, text=\"   Memory Usage: \", bg='black', fg='white')\n",
    "lblMemory_Usage_percent = tk.Label(frm, text=\"{:.1f}%\".format(valMEM.get()), bg='black', fg='white')\n",
    "barMemory_Usage = ttk.Progressbar(frm, length=200, variable=valMEM)\n",
    "\n",
    "lblCPU_Usage.grid(row=0, column=0, pady=10, sticky='w')\n",
    "lblCPU_Usage_percent.grid(row=0, column=1) \n",
    "barCPU_Usage.grid(row=1, column=0, columnspan=2) \n",
    "lblMemory_Usage.grid(row=2, column=0, pady=10, sticky='w')\n",
    "lblMemory_Usage_percent.grid(row=2, column=1)\n",
    "barMemory_Usage.grid(row=3, column=0, columnspan=2, padx=10, pady=10)\n",
    "\n",
    "def read_statistics():\n",
    "    read_cpu_data()\n",
    "    \n",
    "def read_cpu_data():\n",
    "    valCPU.set(psutil.cpu_percent())\n",
    "    lblCPU_Usage_percent.config(text=\"{:.1f}%\".format(valCPU.get()))\n",
    "    \n",
    "    memory_data = psutil.virtual_memory()\n",
    "    valMEM.set(memory_data.percent)\n",
    "    lblMemory_Usage_percent.config(text=\"{:.1f}%\".format(valMEM.get()))\n",
    "    \n",
    "    root.after(1000, read_statistics)\n",
    "    \n",
    "root.after(100, read_statistics)\n",
    "root.mainloop()"
   ]
  },
  {
   "cell_type": "markdown",
   "metadata": {},
   "source": [
    "Podemos incluir un gráfico de matplotlib en un GUI hecho en tkinter utiliznado un `Canvas` especial llamado `FigureCanvasTkAgg`"
   ]
  },
  {
   "cell_type": "code",
   "execution_count": 1,
   "metadata": {},
   "outputs": [],
   "source": [
    "# MONITOR GRAFICO DE USO DE CPU (PLOT)\n",
    "from tkinter import *\n",
    "from matplotlib.backends.backend_tkagg import FigureCanvasTkAgg\n",
    "from matplotlib.figure import Figure\n",
    "import psutil\n",
    "\n",
    "global data_cpu\n",
    "data_cpu = [0] * 100\n",
    "\n",
    "root = Tk()\n",
    "root.title(\"CPU Monitor\")\n",
    "#root.config(bg='black')\n",
    "root.geometry('500x400')\n",
    "\n",
    "lab = Label(root, text='CPU Monitor Ploting', bg='white')   #, bg='black', fg='white'\n",
    "lab.pack(fill=X)\n",
    "\n",
    "fig = Figure()      #facecolor='black'\n",
    "\n",
    "ax = fig.add_subplot(111)    # facecolor='black'\n",
    "ax.set_xlabel('Time')\n",
    "ax.set_ylabel('% Usage')\n",
    "\n",
    "graph = FigureCanvasTkAgg(fig, master=root)\n",
    "graph.get_tk_widget().pack(side='top', fill='both', expand=True)\n",
    "\n",
    "def update_graph():\n",
    "    plotter()\n",
    "\n",
    "def plotter():\n",
    "    global data_cpu\n",
    "    \n",
    "    data_cpu.pop(0)\n",
    "    data_cpu.append(psutil.cpu_percent())\n",
    "    \n",
    "    ax.cla()\n",
    "    ax.grid()\n",
    "    ax.set_ylim(0, 100)\n",
    "    #ax.set_yticks([300])\n",
    "    ax.set_yticklabels([0, 20, 40, 60, 80, 100])   #fontsize=6\n",
    "    #ax.set_xticks([300])\n",
    "    ax.plot(data_cpu, color='blue')\n",
    "    graph.draw()\n",
    "    root.after(100, update_graph)\n",
    "        \n",
    "root.after(100, update_graph)\n",
    "root.mainloop()"
   ]
  }
 ],
 "metadata": {
  "kernelspec": {
   "display_name": "Python 3",
   "language": "python",
   "name": "python3"
  },
  "language_info": {
   "codemirror_mode": {
    "name": "ipython",
    "version": 3
   },
   "file_extension": ".py",
   "mimetype": "text/x-python",
   "name": "python",
   "nbconvert_exporter": "python",
   "pygments_lexer": "ipython3",
   "version": "3.7.0"
  }
 },
 "nbformat": 4,
 "nbformat_minor": 2
}
